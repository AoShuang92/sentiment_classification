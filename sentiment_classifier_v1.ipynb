{
 "cells": [
  {
   "cell_type": "code",
   "execution_count": 2,
   "metadata": {
    "colab": {
     "base_uri": "https://localhost:8080/",
     "height": 121
    },
    "colab_type": "code",
    "id": "kpMxexWmcxOi",
    "outputId": "6ac70514-f8eb-4f78-809e-03c0760a712f"
   },
   "outputs": [
    {
     "data": {
      "text/plain": [
       "id                                                      5814_8\n",
       "sentiment                                                    1\n",
       "review       With all this stuff going down at the moment w...\n",
       "Name: 0, dtype: object"
      ]
     },
     "execution_count": 2,
     "metadata": {},
     "output_type": "execute_result"
    }
   ],
   "source": [
    "import torch.utils.data\n",
    "import sklearn.metrics\n",
    "import torch\n",
    "import pandas\n",
    "from torch.utils.data import Dataset\n",
    "import tqdm\n",
    "import spacy\n",
    "import random\n",
    "import numpy as np\n",
    "import math\n",
    "import os\n",
    "import torchvision \n",
    "from torchvision import models, datasets, transforms\n",
    "SEED = 2222\n",
    "random.seed(SEED)\n",
    "torch.manual_seed(SEED)\n",
    "nlp = spacy.load('en')\n",
    "pandas.read_csv('sentiment.tsv',sep='\\t',header=0).iloc[0]"
   ]
  },
  {
   "cell_type": "code",
   "execution_count": 7,
   "metadata": {
    "colab": {
     "base_uri": "https://localhost:8080/",
     "height": 52
    },
    "colab_type": "code",
    "id": "cDr1g4IyfqN2",
    "outputId": "96073ecd-05bf-46a9-cea1-34801e550865"
   },
   "outputs": [],
   "source": [
    "class TrainDataset(Dataset):\n",
    "    def __init__(self):\n",
    "        self.data = pandas\\\n",
    "            .read_csv('sentiment.tsv',sep='\\t',header=0)\\\n",
    "            .groupby('id')\\\n",
    "            .first()\n",
    "            \n",
    "            \n",
    "        self.ordinals = {}\n",
    "        for sample in tqdm.tqdm(self.data.review):\n",
    "            for token in nlp (sample.lower(),disable = ['parser','tagger','ner']):\n",
    "                if token.text not in self.ordinals:\n",
    "                    self.ordinals[token.text] = len(self.ordinals)\n",
    "    def __len__ (self):\n",
    "        return len(self.data)\n",
    "    def __getitem__(self,idx):\n",
    "        if type(idx) is torch.Tensor:\n",
    "            idx = idx.item()\n",
    "        sample = self.data.iloc[idx]\n",
    "        bag_of_words = torch.zeros(len(self.ordinals))\n",
    "        for token in nlp (sample.review.lower(),disable = ['parser','tagger','ner']):\n",
    "            bag_of_words[self.ordinals[token.text]] += 1\n",
    "        return bag_of_words, torch.tensor(sample.sentiment)\n"
   ]
  },
  {
   "cell_type": "code",
   "execution_count": 4,
   "metadata": {
    "colab": {},
    "colab_type": "code",
    "id": "GD9FvJXVjNoc"
   },
   "outputs": [],
   "source": [
    "class Modeltrain (torch.nn.Module):\n",
    "    def __init__(self, input_dimensions,size=128):\n",
    "        super().__init__()\n",
    "        self.layer_one = torch.nn.Linear(input_dimensions, size)\n",
    "        self.activation_one = torch.nn.ReLU()\n",
    "        self.layer_two = torch.nn.Linear(size, size)\n",
    "        self.activation_two = torch.nn.ReLU()\n",
    "        self.shape_outputs = torch.nn.Linear(size, 2)\n",
    "\n",
    "    def forward(self, inputs):\n",
    "\n",
    "        buffer = self.layer_one(inputs)\n",
    "        buffer = self.activation_one(buffer)\n",
    "        buffer = self.layer_two(buffer)\n",
    "        buffer = self.activation_two(buffer)\n",
    "        buffer = self.shape_outputs(buffer)\n",
    "        return buffer\n"
   ]
  },
  {
   "cell_type": "code",
   "execution_count": 5,
   "metadata": {
    "colab": {},
    "colab_type": "code",
    "id": "cT4R3dC5RpzV"
   },
   "outputs": [],
   "source": [
    "\n",
    "def valid(model, validationloader):\n",
    "  loss_all = []\n",
    "  with torch.no_grad():\n",
    "      model.eval()\n",
    "      for inputs, actual in validationloader:\n",
    "          results = model(inputs)\n",
    "          loss = loss_function(results, actual)\n",
    "          loss_all.append(loss.item())\n",
    "  return  np.mean(np.array(loss_all))\n",
    "\n",
    "def train(model, trainloader, optimizer, loss_function):\n",
    "  model.train()\n",
    "  epoch_loss = []\n",
    "  for inputs, outputs in trainloader:\n",
    "        optimizer.zero_grad()\n",
    "        results = model(inputs)\n",
    "        loss = loss_function(results, outputs)\n",
    "        loss.backward()\n",
    "        optimizer.step()\n",
    "        epoch_loss.append(loss.item())\n",
    "  return np.mean(np.array(epoch_loss))\n"
   ]
  },
  {
   "cell_type": "code",
   "execution_count": null,
   "metadata": {
    "colab": {
     "base_uri": "https://localhost:8080/",
     "height": 885
    },
    "colab_type": "code",
    "id": "qvHh6hMgpOs_",
    "outputId": "ac899b9f-3ebd-480e-fd40-d4df314aae5c"
   },
   "outputs": [
    {
     "name": "stderr",
     "output_type": "stream",
     "text": [
      " 92%|█████████▏| 23091/25000 [00:48<00:03, 576.72it/s]"
     ]
    }
   ],
   "source": [
    "#training dataset\n",
    "traindataset = TrainDataset()\n",
    "number_for_validating = int(len(traindataset)*0.1)\n",
    "number_for_training = len(traindataset) - number_for_validating\n",
    "valid_dataset, train_dataset = torch.utils.data.random_split(traindataset,[\n",
    "    number_for_validating,number_for_training])\n",
    "trainloader = torch.utils.data.DataLoader(train_dataset, batch_size =16, shuffle =True)\n",
    "validationloader = torch.utils.data.DataLoader(valid_dataset, batch_size =16, shuffle =True)\n",
    "print(len(valid_dataset),len(train_dataset),len(trainloader),len(validationloader))\n",
    "\n",
    "#loss\n",
    "model = Modeltrain(len(traindataset.ordinals))\n",
    "optimizer = torch.optim.Adam(modeltrain.parameters())\n",
    "loss_function = torch.nn.CrossEntropyLoss()\n",
    "best_loss = float ('inf')\n",
    "best_epoch = 0\n",
    "for epoch in range(50):\n",
    "    train_loss = train(model, trainloader, optimizer, loss_function)\n",
    "    valid_loss = valid(model, validationloader)\n",
    "    if valid_loss<best_loss:\n",
    "        best_loss=valid_loss\n",
    "        best_epoch = epoch\n",
    "        torch.save(modeltrain.state_dict(),'best_model.pt')\n",
    "    print('Epoch:%d, Current_loss:%.4f Best_epoch:%d Best_loss:%.4f'%(epoch,valid_loss,best_epoch, best_loss))"
   ]
  },
  {
   "cell_type": "code",
   "execution_count": 0,
   "metadata": {
    "colab": {},
    "colab_type": "code",
    "id": "QNjVO9DhykoJ"
   },
   "outputs": [],
   "source": [
    "np.savetxt(\"foo.csv\", results.astype(int), fmt='%d')"
   ]
  }
 ],
 "metadata": {
  "colab": {
   "collapsed_sections": [],
   "name": "real or not disaster tweets_v2.ipynb",
   "provenance": []
  },
  "kernelspec": {
   "display_name": "Python 3",
   "language": "python",
   "name": "python3"
  },
  "language_info": {
   "codemirror_mode": {
    "name": "ipython",
    "version": 3
   },
   "file_extension": ".py",
   "mimetype": "text/x-python",
   "name": "python",
   "nbconvert_exporter": "python",
   "pygments_lexer": "ipython3",
   "version": "3.7.7"
  }
 },
 "nbformat": 4,
 "nbformat_minor": 1
}
